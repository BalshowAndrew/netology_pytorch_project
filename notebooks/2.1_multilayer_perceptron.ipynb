{
 "cells": [
  {
   "cell_type": "markdown",
   "id": "bc00bb8f",
   "metadata": {},
   "source": [
    "# Multilayer Perceptrpn (MLP)"
   ]
  },
  {
   "cell_type": "code",
   "execution_count": null,
   "id": "d8e25a60",
   "metadata": {},
   "outputs": [
    {
     "ename": "",
     "evalue": "",
     "output_type": "error",
     "traceback": [
      "\u001b[1;31mCannot execute code, session has been disposed. Please try restarting the Kernel."
     ]
    },
    {
     "ename": "",
     "evalue": "",
     "output_type": "error",
     "traceback": [
      "\u001b[1;31mCannot execute code, session has been disposed. Please try restarting the Kernel. \n",
      "\u001b[1;31mView Jupyter <a href='command:jupyter.viewOutput'>log</a> for further details."
     ]
    }
   ],
   "source": [
    "import time\n",
    "\n",
    "import matplotlib.pyplot as plt\n",
    "%matplotlib inline\n",
    "import numpy as np\n",
    "import pandas as pd\n",
    "\n",
    "import torch\n",
    "import torchvision as tv"
   ]
  },
  {
   "cell_type": "markdown",
   "id": "752a96e3",
   "metadata": {},
   "source": []
  },
  {
   "cell_type": "code",
   "execution_count": 2,
   "id": "8ce2ea51",
   "metadata": {},
   "outputs": [],
   "source": [
    "BATCH_SIZE = 256"
   ]
  },
  {
   "cell_type": "code",
   "execution_count": 3,
   "id": "ccf18140",
   "metadata": {},
   "outputs": [
    {
     "name": "stdout",
     "output_type": "stream",
     "text": [
      "Using device: cuda\n"
     ]
    }
   ],
   "source": [
    "# Проверка доступности GPU\n",
    "device = torch.device('cuda' if torch.cuda.is_available() else 'cpu')\n",
    "print(f\"Using device: {device}\")"
   ]
  },
  {
   "cell_type": "markdown",
   "id": "7ec4e6c0",
   "metadata": {},
   "source": [
    "## Data import"
   ]
  },
  {
   "cell_type": "code",
   "execution_count": 4,
   "id": "57fe441e",
   "metadata": {},
   "outputs": [],
   "source": [
    "train_dataset = tv.datasets.MNIST('.', train=True, transform=tv.transforms.ToTensor(), download=True)\n",
    "test_dataset = tv.datasets.MNIST('.', train=False, transform=tv.transforms.ToTensor(), download=True)\n",
    "train = torch.utils.data.DataLoader(train_dataset, batch_size=BATCH_SIZE)\n",
    "test = torch.utils.data.DataLoader(test_dataset, batch_size=BATCH_SIZE)"
   ]
  },
  {
   "cell_type": "code",
   "execution_count": 5,
   "id": "c6d1927d",
   "metadata": {},
   "outputs": [
    {
     "data": {
      "text/plain": [
       "torch.Size([1, 28, 28])"
      ]
     },
     "execution_count": 5,
     "metadata": {},
     "output_type": "execute_result"
    }
   ],
   "source": [
    "train_dataset[0][0].shape"
   ]
  },
  {
   "cell_type": "markdown",
   "id": "8186a4d0",
   "metadata": {},
   "source": [
    "## Model SGD"
   ]
  },
  {
   "cell_type": "code",
   "execution_count": 6,
   "id": "e116826b",
   "metadata": {},
   "outputs": [],
   "source": [
    "model = torch.nn.Sequential(\n",
    "    torch.nn.Flatten(),\n",
    "    torch.nn.Linear(784, 256),\n",
    "    torch.nn.ReLU(),\n",
    "    torch.nn.Linear(256, 10)\n",
    ")"
   ]
  },
  {
   "cell_type": "code",
   "execution_count": 7,
   "id": "711d7153",
   "metadata": {},
   "outputs": [
    {
     "data": {
      "text/plain": [
       "Sequential(\n",
       "  (0): Flatten(start_dim=1, end_dim=-1)\n",
       "  (1): Linear(in_features=784, out_features=256, bias=True)\n",
       "  (2): ReLU()\n",
       "  (3): Linear(in_features=256, out_features=10, bias=True)\n",
       ")"
      ]
     },
     "execution_count": 7,
     "metadata": {},
     "output_type": "execute_result"
    }
   ],
   "source": [
    "model = model.to(device)\n",
    "model"
   ]
  },
  {
   "cell_type": "code",
   "execution_count": 8,
   "id": "ff78d151",
   "metadata": {},
   "outputs": [],
   "source": [
    "loss = torch.nn.CrossEntropyLoss()\n",
    "optimizer = torch.optim.SGD(model.parameters(), lr=.01)\n",
    "num_epochs = 10"
   ]
  },
  {
   "cell_type": "code",
   "execution_count": 9,
   "id": "fee295a0",
   "metadata": {},
   "outputs": [],
   "source": [
    "def training_loop():\n",
    "    for epoch in range(num_epochs):\n",
    "        train_iters, train_passed = 0, 0\n",
    "        train_loss, train_acc = 0., 0.\n",
    "        start=time.time()\n",
    "\n",
    "        model.train()\n",
    "        for X, y in train:\n",
    "            X, y = X.to(device), y.to(device)\n",
    "            optimizer.zero_grad()\n",
    "            y_pred = model(X)\n",
    "            l = loss(y_pred, y)\n",
    "            l.backward()\n",
    "            optimizer.step()\n",
    "            train_loss += l.item()\n",
    "            train_acc += (y_pred.argmax(dim=1) == y).sum().item()\n",
    "            train_iters += 1\n",
    "            train_passed += len(X)\n",
    "\n",
    "        test_iters, test_passed = 0, 0\n",
    "        test_loss, test_acc = 0., 0.\n",
    "        model.eval()\n",
    "        for X, y in test:\n",
    "            X, y = X.to(device), y.to(device)\n",
    "            y_pred = model(X)\n",
    "            l = loss(y_pred, y)\n",
    "            test_loss  += l.item()\n",
    "            test_acc += (y_pred.argmax(dim=1) == y).sum().item()\n",
    "            test_iters += 1\n",
    "            test_passed += len(X)\n",
    "\n",
    "        print(\"epoch: {}, taked: {: .3f}, train_loss: {}, train_acc: {}, test_loss: {}, test_acc: {}\".format(\n",
    "            epoch, time.time() - start, train_loss / train_iters, train_acc / train_passed,\n",
    "            test_loss / test_iters, test_acc / test_passed\n",
    "        ))    "
   ]
  },
  {
   "cell_type": "code",
   "execution_count": 10,
   "id": "b40ba947",
   "metadata": {},
   "outputs": [
    {
     "name": "stdout",
     "output_type": "stream",
     "text": [
      "epoch: 0, taked:  12.587, train_loss: 2.0250510347650406, train_acc: 0.5749166666666666, test_loss: 1.655296754837036, test_acc: 0.7509\n",
      "epoch: 1, taked:  11.361, train_loss: 1.3091280589712426, train_acc: 0.7773833333333333, test_loss: 0.9888455182313919, test_acc: 0.8138\n",
      "epoch: 2, taked:  11.351, train_loss: 0.8507620442420878, train_acc: 0.8268833333333333, test_loss: 0.7022985890507698, test_acc: 0.8494\n",
      "epoch: 3, taked:  11.214, train_loss: 0.6546166160005205, train_acc: 0.8517166666666667, test_loss: 0.5710688237100839, test_acc: 0.8674\n",
      "epoch: 4, taked:  11.226, train_loss: 0.5555998230868198, train_acc: 0.8656166666666667, test_loss: 0.4977589726448059, test_acc: 0.8782\n",
      "epoch: 5, taked:  11.370, train_loss: 0.49663475720172234, train_acc: 0.8753, test_loss: 0.4513070423156023, test_acc: 0.8853\n",
      "epoch: 6, taked:  11.465, train_loss: 0.4576267775068892, train_acc: 0.8817, test_loss: 0.41937654111534356, test_acc: 0.8908\n",
      "epoch: 7, taked:  11.286, train_loss: 0.42988147684868344, train_acc: 0.88615, test_loss: 0.396094624325633, test_acc: 0.894\n",
      "epoch: 8, taked:  11.191, train_loss: 0.4090468946289509, train_acc: 0.8901166666666667, test_loss: 0.3783094795420766, test_acc: 0.8968\n",
      "epoch: 9, taked:  11.277, train_loss: 0.3927145001102001, train_acc: 0.8929, test_loss: 0.3641939813271165, test_acc: 0.9\n"
     ]
    }
   ],
   "source": [
    "training_loop()"
   ]
  },
  {
   "cell_type": "code",
   "execution_count": 11,
   "id": "2e28742f",
   "metadata": {},
   "outputs": [
    {
     "name": "stdout",
     "output_type": "stream",
     "text": [
      "CUDA is available: True\n"
     ]
    },
    {
     "data": {
      "text/plain": [
       "True"
      ]
     },
     "execution_count": 11,
     "metadata": {},
     "output_type": "execute_result"
    }
   ],
   "source": [
    "def check_cuda_availability() -> bool:\n",
    "    \"\"\"Checks if CUDA is available and prints the result.\"\"\"\n",
    "    is_cuda_available = torch.cuda.is_available()\n",
    "    print(f\"CUDA is available: {is_cuda_available}\")\n",
    "    return is_cuda_available\n",
    "\n",
    "check_cuda_availability()"
   ]
  },
  {
   "cell_type": "markdown",
   "id": "b03c88c9",
   "metadata": {},
   "source": [
    "## Model Adam"
   ]
  },
  {
   "cell_type": "code",
   "execution_count": 12,
   "id": "c6b81c36",
   "metadata": {},
   "outputs": [
    {
     "data": {
      "text/plain": [
       "Sequential(\n",
       "  (0): Flatten(start_dim=1, end_dim=-1)\n",
       "  (1): Linear(in_features=784, out_features=256, bias=True)\n",
       "  (2): ReLU()\n",
       "  (3): Linear(in_features=256, out_features=10, bias=True)\n",
       ")"
      ]
     },
     "execution_count": 12,
     "metadata": {},
     "output_type": "execute_result"
    }
   ],
   "source": [
    "model = torch.nn.Sequential(\n",
    "    torch.nn.Flatten(),\n",
    "    torch.nn.Linear(784, 256),\n",
    "    torch.nn.ReLU(),\n",
    "    torch.nn.Linear(256, 10)\n",
    ")\n",
    "\n",
    "model.to(device)\n",
    "model"
   ]
  },
  {
   "cell_type": "code",
   "execution_count": 13,
   "id": "a5ed1cb1",
   "metadata": {},
   "outputs": [],
   "source": [
    "loss = torch.nn.CrossEntropyLoss()\n",
    "optimizer = torch.optim.Adam(model.parameters(), lr=.01)\n",
    "num_epochs = 10"
   ]
  },
  {
   "cell_type": "code",
   "execution_count": 14,
   "id": "ea61d1cd",
   "metadata": {},
   "outputs": [
    {
     "name": "stdout",
     "output_type": "stream",
     "text": [
      "epoch: 0, taked:  11.431, train_loss: 0.25067175838382955, train_acc: 0.9234333333333333, test_loss: 0.18760781958699227, test_acc: 0.9394\n",
      "epoch: 1, taked:  11.298, train_loss: 0.10720564884708282, train_acc: 0.9672166666666666, test_loss: 0.13223123312345705, test_acc: 0.9596\n",
      "epoch: 2, taked:  11.388, train_loss: 0.0742048234010036, train_acc: 0.9767333333333333, test_loss: 0.1423712159623392, test_acc: 0.9599\n",
      "epoch: 3, taked:  11.315, train_loss: 0.05924570959735107, train_acc: 0.9812166666666666, test_loss: 0.09349114798096707, test_acc: 0.9747\n",
      "epoch: 4, taked:  11.442, train_loss: 0.050371240187396714, train_acc: 0.9838333333333333, test_loss: 0.12244425698190753, test_acc: 0.9674\n",
      "epoch: 5, taked:  11.371, train_loss: 0.046684251247132394, train_acc: 0.9856333333333334, test_loss: 0.1343655483527982, test_acc: 0.9672\n",
      "epoch: 6, taked:  11.262, train_loss: 0.04903338018784973, train_acc: 0.9849833333333333, test_loss: 0.161489720175814, test_acc: 0.9687\n",
      "epoch: 7, taked:  11.484, train_loss: 0.043850183990248974, train_acc: 0.9865666666666667, test_loss: 0.14045514066528994, test_acc: 0.971\n",
      "epoch: 8, taked:  11.328, train_loss: 0.03616009555618338, train_acc: 0.98905, test_loss: 0.15663044116936362, test_acc: 0.9689\n",
      "epoch: 9, taked:  11.322, train_loss: 0.038716498426003186, train_acc: 0.9888833333333333, test_loss: 0.16012825928497137, test_acc: 0.9705\n"
     ]
    }
   ],
   "source": [
    "training_loop()"
   ]
  },
  {
   "cell_type": "code",
   "execution_count": null,
   "id": "38467550",
   "metadata": {},
   "outputs": [],
   "source": []
  }
 ],
 "metadata": {
  "kernelspec": {
   "display_name": "netology_pytorch_project",
   "language": "python",
   "name": "netology_pytorch_project"
  },
  "language_info": {
   "codemirror_mode": {
    "name": "ipython",
    "version": 3
   },
   "file_extension": ".py",
   "mimetype": "text/x-python",
   "name": "python",
   "nbconvert_exporter": "python",
   "pygments_lexer": "ipython3",
   "version": "3.11.11"
  }
 },
 "nbformat": 4,
 "nbformat_minor": 5
}
