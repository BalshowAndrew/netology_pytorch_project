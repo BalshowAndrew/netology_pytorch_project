{
 "cells": [
  {
   "cell_type": "markdown",
   "id": "bc00bb8f",
   "metadata": {},
   "source": [
    "# Multilayer Perceptrpn (MLP)"
   ]
  },
  {
   "cell_type": "code",
   "execution_count": 1,
   "id": "d8e25a60",
   "metadata": {},
   "outputs": [],
   "source": [
    "import time\n",
    "\n",
    "import matplotlib.pyplot as plt\n",
    "%matplotlib inline\n",
    "import numpy as np\n",
    "import pandas as pd\n",
    "\n",
    "import torch\n",
    "import torchvision as tv"
   ]
  },
  {
   "cell_type": "code",
   "execution_count": 2,
   "id": "8ce2ea51",
   "metadata": {},
   "outputs": [],
   "source": [
    "BATCH_SIZE = 256"
   ]
  },
  {
   "cell_type": "code",
   "execution_count": 3,
   "id": "ccf18140",
   "metadata": {},
   "outputs": [
    {
     "name": "stdout",
     "output_type": "stream",
     "text": [
      "Using device: cpu\n"
     ]
    }
   ],
   "source": [
    "# Проверка доступности GPU\n",
    "device = torch.device('cuda' if torch.cuda.is_available() else 'cpu')\n",
    "print(f\"Using device: {device}\")"
   ]
  },
  {
   "cell_type": "markdown",
   "id": "7ec4e6c0",
   "metadata": {},
   "source": [
    "## Data import"
   ]
  },
  {
   "cell_type": "code",
   "execution_count": 4,
   "id": "57fe441e",
   "metadata": {},
   "outputs": [
    {
     "name": "stderr",
     "output_type": "stream",
     "text": [
      "100%|██████████| 9.91M/9.91M [00:01<00:00, 8.76MB/s]\n",
      "100%|██████████| 28.9k/28.9k [00:00<00:00, 242kB/s]\n",
      "100%|██████████| 1.65M/1.65M [00:00<00:00, 2.22MB/s]\n",
      "100%|██████████| 4.54k/4.54k [00:00<00:00, 809kB/s]\n"
     ]
    }
   ],
   "source": [
    "train_dataset = tv.datasets.MNIST('.', train=True, transform=tv.transforms.ToTensor(), download=True)\n",
    "test_dataset = tv.datasets.MNIST('.', train=False, transform=tv.transforms.ToTensor(), download=True)\n",
    "train = torch.utils.data.DataLoader(train_dataset, batch_size=BATCH_SIZE)\n",
    "test = torch.utils.data.DataLoader(test_dataset, batch_size=BATCH_SIZE)"
   ]
  },
  {
   "cell_type": "code",
   "execution_count": 5,
   "id": "c6d1927d",
   "metadata": {},
   "outputs": [
    {
     "data": {
      "text/plain": [
       "torch.Size([1, 28, 28])"
      ]
     },
     "execution_count": 5,
     "metadata": {},
     "output_type": "execute_result"
    }
   ],
   "source": [
    "train_dataset[0][0].shape"
   ]
  },
  {
   "cell_type": "markdown",
   "id": "8186a4d0",
   "metadata": {},
   "source": [
    "## Model SGD"
   ]
  },
  {
   "cell_type": "code",
   "execution_count": 6,
   "id": "e116826b",
   "metadata": {},
   "outputs": [],
   "source": [
    "model = torch.nn.Sequential(\n",
    "    torch.nn.Flatten(),\n",
    "    torch.nn.Linear(784, 256),\n",
    "    torch.nn.ReLU(),\n",
    "    torch.nn.Linear(256, 10)\n",
    ")"
   ]
  },
  {
   "cell_type": "code",
   "execution_count": 7,
   "id": "711d7153",
   "metadata": {},
   "outputs": [
    {
     "data": {
      "text/plain": [
       "Sequential(\n",
       "  (0): Flatten(start_dim=1, end_dim=-1)\n",
       "  (1): Linear(in_features=784, out_features=256, bias=True)\n",
       "  (2): ReLU()\n",
       "  (3): Linear(in_features=256, out_features=10, bias=True)\n",
       ")"
      ]
     },
     "execution_count": 7,
     "metadata": {},
     "output_type": "execute_result"
    }
   ],
   "source": [
    "model = model.to(device)\n",
    "model"
   ]
  },
  {
   "cell_type": "code",
   "execution_count": 8,
   "id": "ff78d151",
   "metadata": {},
   "outputs": [],
   "source": [
    "loss = torch.nn.CrossEntropyLoss()\n",
    "optimizer = torch.optim.SGD(model.parameters(), lr=.01)\n",
    "num_epochs = 10"
   ]
  },
  {
   "cell_type": "code",
   "execution_count": 10,
   "id": "fee295a0",
   "metadata": {},
   "outputs": [],
   "source": [
    "def training_loop():\n",
    "    for epoch in range(num_epochs):\n",
    "        train_iters, train_passed = 0, 0\n",
    "        train_loss, train_acc = 0., 0.\n",
    "        start=time.time()\n",
    "\n",
    "        model.train()\n",
    "        for X, y in train:\n",
    "            X, y = X.to(device), y.to(device)\n",
    "            optimizer.zero_grad()\n",
    "            y_pred = model(X)\n",
    "            l = loss(y_pred, y)\n",
    "            l.backward()\n",
    "            optimizer.step()\n",
    "            train_loss += l.item()\n",
    "            train_acc += (y_pred.argmax(dim=1) == y).sum().item()\n",
    "            train_iters += 1\n",
    "            train_passed += len(X)\n",
    "\n",
    "        test_iters, test_passed = 0, 0\n",
    "        test_loss, test_acc = 0., 0.\n",
    "        model.eval()\n",
    "        for X, y in test:\n",
    "            y_pred = model(X)\n",
    "            l = loss(y_pred, y)\n",
    "            test_loss  += l.item()\n",
    "            test_acc += (y_pred.argmax(dim=1) == y).sum().item()\n",
    "            test_iters += 1\n",
    "            test_passed += len(X)\n",
    "\n",
    "        print(\"epoch: {}, taked: {: .3f}, train_loss: {}, train_acc: {}, test_loss: {}, test_acc: {}\".format(\n",
    "            epoch, time.time() - start, train_loss / train_iters, train_acc / train_passed,\n",
    "            test_loss / test_iters, test_acc / test_passed\n",
    "        ))    "
   ]
  },
  {
   "cell_type": "code",
   "execution_count": 11,
   "id": "b40ba947",
   "metadata": {},
   "outputs": [
    {
     "name": "stdout",
     "output_type": "stream",
     "text": [
      "epoch: 0, taked:  14.608, train_loss: 2.0583167187711027, train_acc: 0.57945, test_loss: 1.704962858557701, test_acc: 0.7706\n",
      "epoch: 1, taked:  14.235, train_loss: 1.3533118737504837, train_acc: 0.7825166666666666, test_loss: 1.0136128336191177, test_acc: 0.8219\n",
      "epoch: 2, taked:  15.338, train_loss: 0.8695311865908034, train_acc: 0.8290333333333333, test_loss: 0.7107312135398388, test_acc: 0.849\n",
      "epoch: 3, taked:  14.713, train_loss: 0.6636266221391394, train_acc: 0.8519666666666666, test_loss: 0.5755699399858714, test_acc: 0.8661\n",
      "epoch: 4, taked:  14.822, train_loss: 0.5616882188523069, train_acc: 0.8644, test_loss: 0.5010872758924961, test_acc: 0.8784\n",
      "epoch: 5, taked:  14.754, train_loss: 0.5014460054483819, train_acc: 0.87325, test_loss: 0.4541131529957056, test_acc: 0.8851\n",
      "epoch: 6, taked:  14.555, train_loss: 0.46167622601732294, train_acc: 0.8800833333333333, test_loss: 0.42185917403548956, test_acc: 0.8894\n",
      "epoch: 7, taked:  14.059, train_loss: 0.4334077287861641, train_acc: 0.8849, test_loss: 0.39833901207894085, test_acc: 0.8928\n",
      "epoch: 8, taked:  14.209, train_loss: 0.4121828310033108, train_acc: 0.8885666666666666, test_loss: 0.3803589420393109, test_acc: 0.8968\n",
      "epoch: 9, taked:  14.395, train_loss: 0.3955473971493701, train_acc: 0.8915833333333333, test_loss: 0.36608149372041227, test_acc: 0.8991\n"
     ]
    }
   ],
   "source": [
    "training_loop()"
   ]
  },
  {
   "cell_type": "code",
   "execution_count": 12,
   "id": "2e28742f",
   "metadata": {},
   "outputs": [
    {
     "name": "stdout",
     "output_type": "stream",
     "text": [
      "CUDA is available: False\n"
     ]
    },
    {
     "data": {
      "text/plain": [
       "False"
      ]
     },
     "execution_count": 12,
     "metadata": {},
     "output_type": "execute_result"
    }
   ],
   "source": [
    "def check_cuda_availability() -> bool:\n",
    "    \"\"\"Checks if CUDA is available and prints the result.\"\"\"\n",
    "    is_cuda_available = torch.cuda.is_available()\n",
    "    print(f\"CUDA is available: {is_cuda_available}\")\n",
    "    return is_cuda_available\n",
    "\n",
    "check_cuda_availability()"
   ]
  },
  {
   "cell_type": "markdown",
   "id": "b03c88c9",
   "metadata": {},
   "source": [
    "## Model Adam"
   ]
  },
  {
   "cell_type": "code",
   "execution_count": 13,
   "id": "c6b81c36",
   "metadata": {},
   "outputs": [
    {
     "data": {
      "text/plain": [
       "Sequential(\n",
       "  (0): Flatten(start_dim=1, end_dim=-1)\n",
       "  (1): Linear(in_features=784, out_features=256, bias=True)\n",
       "  (2): ReLU()\n",
       "  (3): Linear(in_features=256, out_features=10, bias=True)\n",
       ")"
      ]
     },
     "execution_count": 13,
     "metadata": {},
     "output_type": "execute_result"
    }
   ],
   "source": [
    "model = torch.nn.Sequential(\n",
    "    torch.nn.Flatten(),\n",
    "    torch.nn.Linear(784, 256),\n",
    "    torch.nn.ReLU(),\n",
    "    torch.nn.Linear(256, 10)\n",
    ")\n",
    "\n",
    "model.to(device)\n",
    "model"
   ]
  },
  {
   "cell_type": "code",
   "execution_count": 14,
   "id": "a5ed1cb1",
   "metadata": {},
   "outputs": [],
   "source": [
    "loss = torch.nn.CrossEntropyLoss()\n",
    "optimizer = torch.optim.Adam(model.parameters(), lr=.01)\n",
    "num_epochs = 10"
   ]
  },
  {
   "cell_type": "code",
   "execution_count": 15,
   "id": "ea61d1cd",
   "metadata": {},
   "outputs": [
    {
     "name": "stdout",
     "output_type": "stream",
     "text": [
      "epoch: 0, taked:  14.802, train_loss: 0.25221620179871296, train_acc: 0.9235166666666667, test_loss: 0.16526733628707008, test_acc: 0.9479\n",
      "epoch: 1, taked:  15.749, train_loss: 0.10758770020837162, train_acc: 0.9667833333333333, test_loss: 0.09858492225175723, test_acc: 0.9695\n",
      "epoch: 2, taked:  15.055, train_loss: 0.07284427674467418, train_acc: 0.9779333333333333, test_loss: 0.11496030239068204, test_acc: 0.9651\n",
      "epoch: 3, taked:  14.570, train_loss: 0.058275163567506096, train_acc: 0.9807666666666667, test_loss: 0.0971086934368941, test_acc: 0.9721\n",
      "epoch: 4, taked:  14.450, train_loss: 0.0462046498178871, train_acc: 0.98515, test_loss: 0.10718096337441238, test_acc: 0.972\n",
      "epoch: 5, taked:  14.425, train_loss: 0.046425450868171424, train_acc: 0.9850666666666666, test_loss: 0.12465038219061171, test_acc: 0.9698\n",
      "epoch: 6, taked:  14.830, train_loss: 0.05147317980213011, train_acc: 0.9845666666666667, test_loss: 0.13341975299058503, test_acc: 0.9727\n",
      "epoch: 7, taked:  15.057, train_loss: 0.046254012026289044, train_acc: 0.9856833333333334, test_loss: 0.13325387551758466, test_acc: 0.9702\n",
      "epoch: 8, taked:  15.429, train_loss: 0.04179538094953812, train_acc: 0.9870833333333333, test_loss: 0.13304225205001785, test_acc: 0.9729\n",
      "epoch: 9, taked:  16.001, train_loss: 0.0371515660151651, train_acc: 0.989, test_loss: 0.15934633858851158, test_acc: 0.9677\n"
     ]
    }
   ],
   "source": [
    "training_loop()"
   ]
  },
  {
   "cell_type": "code",
   "execution_count": null,
   "id": "38467550",
   "metadata": {},
   "outputs": [],
   "source": []
  }
 ],
 "metadata": {
  "kernelspec": {
   "display_name": "netology_pytorch_project",
   "language": "python",
   "name": "netology_pytorch_project"
  },
  "language_info": {
   "codemirror_mode": {
    "name": "ipython",
    "version": 3
   },
   "file_extension": ".py",
   "mimetype": "text/x-python",
   "name": "python",
   "nbconvert_exporter": "python",
   "pygments_lexer": "ipython3",
   "version": "3.11.11"
  }
 },
 "nbformat": 4,
 "nbformat_minor": 5
}
