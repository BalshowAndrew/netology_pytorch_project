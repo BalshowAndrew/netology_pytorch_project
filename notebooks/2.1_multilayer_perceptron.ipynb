{
 "cells": [
  {
   "cell_type": "markdown",
   "id": "bc00bb8f",
   "metadata": {},
   "source": [
    "# Multilayer Perceptrpn (MLP)"
   ]
  },
  {
   "cell_type": "code",
   "execution_count": 3,
   "id": "d8e25a60",
   "metadata": {},
   "outputs": [],
   "source": [
    "import time\n",
    "\n",
    "import matplotlib.pyplot as plt\n",
    "%matplotlib inline\n",
    "import numpy as np\n",
    "import pandas as pd\n",
    "\n",
    "import torch\n",
    "import torchvision as tv"
   ]
  },
  {
   "cell_type": "code",
   "execution_count": 1,
   "id": "8ce2ea51",
   "metadata": {},
   "outputs": [],
   "source": [
    "BATCH_SIZE = 256"
   ]
  },
  {
   "cell_type": "markdown",
   "id": "7ec4e6c0",
   "metadata": {},
   "source": [
    "## Data import"
   ]
  },
  {
   "cell_type": "code",
   "execution_count": 4,
   "id": "57fe441e",
   "metadata": {},
   "outputs": [
    {
     "name": "stderr",
     "output_type": "stream",
     "text": [
      "100%|██████████| 9.91M/9.91M [00:01<00:00, 7.64MB/s]\n",
      "100%|██████████| 28.9k/28.9k [00:00<00:00, 174kB/s]\n",
      "100%|██████████| 1.65M/1.65M [00:00<00:00, 1.71MB/s]\n",
      "100%|██████████| 4.54k/4.54k [00:00<00:00, 1.01MB/s]\n"
     ]
    }
   ],
   "source": [
    "train_dataset = tv.datasets.MNIST('../data/raw', train=True, transform=tv.transforms.ToTensor(), download=True)\n",
    "test_dataset = tv.datasets.MNIST('../data/raw', train=False, transform=tv.transforms.ToTensor(), download=True)\n",
    "train = torch.utils.data.DataLoader(train_dataset, batch_size=BATCH_SIZE)\n",
    "test = torch.utils.data.DataLoader(test_dataset, batch_size=BATCH_SIZE)"
   ]
  },
  {
   "cell_type": "code",
   "execution_count": 10,
   "id": "c6d1927d",
   "metadata": {},
   "outputs": [
    {
     "data": {
      "text/plain": [
       "torch.Size([1, 28, 28])"
      ]
     },
     "execution_count": 10,
     "metadata": {},
     "output_type": "execute_result"
    }
   ],
   "source": [
    "train_dataset[0][0].shape"
   ]
  },
  {
   "cell_type": "markdown",
   "id": "8186a4d0",
   "metadata": {},
   "source": [
    "## Model SGD"
   ]
  },
  {
   "cell_type": "code",
   "execution_count": 11,
   "id": "e116826b",
   "metadata": {},
   "outputs": [],
   "source": [
    "model = torch.nn.Sequential(\n",
    "    torch.nn.Flatten(),\n",
    "    torch.nn.Linear(784, 256),\n",
    "    torch.nn.ReLU(),\n",
    "    torch.nn.Linear(256, 10)\n",
    ")"
   ]
  },
  {
   "cell_type": "code",
   "execution_count": 12,
   "id": "711d7153",
   "metadata": {},
   "outputs": [
    {
     "data": {
      "text/plain": [
       "Sequential(\n",
       "  (0): Flatten(start_dim=1, end_dim=-1)\n",
       "  (1): Linear(in_features=784, out_features=256, bias=True)\n",
       "  (2): ReLU()\n",
       "  (3): Linear(in_features=256, out_features=10, bias=True)\n",
       ")"
      ]
     },
     "execution_count": 12,
     "metadata": {},
     "output_type": "execute_result"
    }
   ],
   "source": [
    "model"
   ]
  },
  {
   "cell_type": "code",
   "execution_count": 13,
   "id": "ff78d151",
   "metadata": {},
   "outputs": [],
   "source": [
    "loss = torch.nn.CrossEntropyLoss()\n",
    "optimizer = torch.optim.SGD(model.parameters(), lr=.01)\n",
    "num_epochs = 10"
   ]
  },
  {
   "cell_type": "code",
   "execution_count": 18,
   "id": "fee295a0",
   "metadata": {},
   "outputs": [],
   "source": [
    "def training_loop():\n",
    "    for epoch in range(num_epochs):\n",
    "        train_iters, train_passed = 0, 0\n",
    "        train_loss, train_acc = 0., 0.\n",
    "        start=time.time()\n",
    "\n",
    "        model.train()\n",
    "        for X, y in train:\n",
    "            optimizer.zero_grad()\n",
    "            y_pred = model(X)\n",
    "            l = loss(y_pred, y)\n",
    "            l.backward()\n",
    "            optimizer.step()\n",
    "            train_loss += l.item()\n",
    "            train_acc += (y_pred.argmax(dim=1) == y).sum().item()\n",
    "            train_iters += 1\n",
    "            train_passed += len(X)\n",
    "\n",
    "        test_iters, test_passed = 0, 0\n",
    "        test_loss, test_acc = 0., 0.\n",
    "        model.eval()\n",
    "        for X, y in test:\n",
    "            y_pred = model(X)\n",
    "            l = loss(y_pred, y)\n",
    "            test_loss  += l.item()\n",
    "            test_acc += (y_pred.argmax(dim=1) == y).sum().item()\n",
    "            test_iters += 1\n",
    "            test_passed += len(X)\n",
    "\n",
    "        print(\"epoch: {}, taked: {: .3f}, train_loss: {}, train_acc: {}, test_loss: {}, test_acc: {}\".format(\n",
    "            epoch, time.time() - start, train_loss / train_iters, train_acc / train_passed,\n",
    "            test_loss / test_iters, test_acc / test_passed\n",
    "        ))    "
   ]
  },
  {
   "cell_type": "code",
   "execution_count": 19,
   "id": "b40ba947",
   "metadata": {},
   "outputs": [
    {
     "name": "stdout",
     "output_type": "stream",
     "text": [
      "epoch: 0, taked:  15.143, train_loss: 2.032381616754735, train_acc: 0.537, test_loss: 1.671196061372757, test_acc: 0.7222\n",
      "epoch: 1, taked:  14.827, train_loss: 1.3280625462532043, train_acc: 0.7632333333333333, test_loss: 1.0040306136012078, test_acc: 0.8143\n",
      "epoch: 2, taked:  13.778, train_loss: 0.8653073512493296, train_acc: 0.8232166666666667, test_loss: 0.7120120383799076, test_acc: 0.8497\n",
      "epoch: 3, taked:  13.844, train_loss: 0.6646339738622625, train_acc: 0.8489, test_loss: 0.5776242233812809, test_acc: 0.8652\n",
      "epoch: 4, taked:  13.740, train_loss: 0.5630122444731124, train_acc: 0.8642833333333333, test_loss: 0.5025085937231779, test_acc: 0.8766\n",
      "epoch: 5, taked:  14.395, train_loss: 0.5023965143142862, train_acc: 0.8740333333333333, test_loss: 0.4548795722424984, test_acc: 0.8849\n",
      "epoch: 6, taked:  13.860, train_loss: 0.4622502591381682, train_acc: 0.8806833333333334, test_loss: 0.4221287749707699, test_acc: 0.8899\n",
      "epoch: 7, taked:  13.920, train_loss: 0.43370834519254403, train_acc: 0.8862166666666667, test_loss: 0.3982649389654398, test_acc: 0.8934\n",
      "epoch: 8, taked:  13.734, train_loss: 0.41231619817145326, train_acc: 0.8898833333333334, test_loss: 0.38007230646908285, test_acc: 0.897\n",
      "epoch: 9, taked:  14.765, train_loss: 0.3955887737426352, train_acc: 0.89255, test_loss: 0.36568000465631484, test_acc: 0.9001\n"
     ]
    }
   ],
   "source": [
    "training_loop()"
   ]
  },
  {
   "cell_type": "markdown",
   "id": "b03c88c9",
   "metadata": {},
   "source": [
    "## Model Adam"
   ]
  },
  {
   "cell_type": "code",
   "execution_count": 20,
   "id": "c6b81c36",
   "metadata": {},
   "outputs": [
    {
     "data": {
      "text/plain": [
       "Sequential(\n",
       "  (0): Flatten(start_dim=1, end_dim=-1)\n",
       "  (1): Linear(in_features=784, out_features=256, bias=True)\n",
       "  (2): ReLU()\n",
       "  (3): Linear(in_features=256, out_features=10, bias=True)\n",
       ")"
      ]
     },
     "execution_count": 20,
     "metadata": {},
     "output_type": "execute_result"
    }
   ],
   "source": [
    "model = torch.nn.Sequential(\n",
    "    torch.nn.Flatten(),\n",
    "    torch.nn.Linear(784, 256),\n",
    "    torch.nn.ReLU(),\n",
    "    torch.nn.Linear(256, 10)\n",
    ")\n",
    "\n",
    "model"
   ]
  },
  {
   "cell_type": "code",
   "execution_count": 21,
   "id": "a5ed1cb1",
   "metadata": {},
   "outputs": [],
   "source": [
    "loss = torch.nn.CrossEntropyLoss()\n",
    "optimizer = torch.optim.Adam(model.parameters(), lr=.01)\n",
    "num_epochs = 10"
   ]
  },
  {
   "cell_type": "code",
   "execution_count": 22,
   "id": "ea61d1cd",
   "metadata": {},
   "outputs": [
    {
     "name": "stdout",
     "output_type": "stream",
     "text": [
      "epoch: 0, taked:  16.998, train_loss: 0.25414203849244626, train_acc: 0.9224166666666667, test_loss: 0.14438453275943175, test_acc: 0.9546\n",
      "epoch: 1, taked:  16.079, train_loss: 0.10558548719879794, train_acc: 0.9676833333333333, test_loss: 0.12441704960074276, test_acc: 0.9609\n",
      "epoch: 2, taked:  16.139, train_loss: 0.0722567948037164, train_acc: 0.9768666666666667, test_loss: 0.11258277373271994, test_acc: 0.9658\n",
      "epoch: 3, taked:  16.917, train_loss: 0.06127306509148726, train_acc: 0.9803833333333334, test_loss: 0.12030076518367423, test_acc: 0.9655\n",
      "epoch: 4, taked:  16.370, train_loss: 0.053686418640179596, train_acc: 0.9823333333333333, test_loss: 0.12014913427410648, test_acc: 0.969\n",
      "epoch: 5, taked:  17.046, train_loss: 0.04400648227001124, train_acc: 0.98575, test_loss: 0.12504899735395156, test_acc: 0.9693\n",
      "epoch: 6, taked:  16.326, train_loss: 0.04856869768192793, train_acc: 0.9850833333333333, test_loss: 0.13063380663179486, test_acc: 0.9699\n",
      "epoch: 7, taked:  16.549, train_loss: 0.04248877630489779, train_acc: 0.9867333333333334, test_loss: 0.13800825178323067, test_acc: 0.9715\n",
      "epoch: 8, taked:  16.882, train_loss: 0.04229838463547144, train_acc: 0.9867833333333333, test_loss: 0.15761340357021253, test_acc: 0.9701\n",
      "epoch: 9, taked:  16.606, train_loss: 0.038869199796302364, train_acc: 0.9882833333333333, test_loss: 0.14331294454123053, test_acc: 0.9717\n"
     ]
    }
   ],
   "source": [
    "training_loop()"
   ]
  },
  {
   "cell_type": "code",
   "execution_count": null,
   "id": "38467550",
   "metadata": {},
   "outputs": [],
   "source": []
  }
 ],
 "metadata": {
  "kernelspec": {
   "display_name": "netology_pytorch_project",
   "language": "python",
   "name": "netology_pytorch_project"
  },
  "language_info": {
   "codemirror_mode": {
    "name": "ipython",
    "version": 3
   },
   "file_extension": ".py",
   "mimetype": "text/x-python",
   "name": "python",
   "nbconvert_exporter": "python",
   "pygments_lexer": "ipython3",
   "version": "3.11.11"
  }
 },
 "nbformat": 4,
 "nbformat_minor": 5
}
