{
 "cells": [
  {
   "cell_type": "markdown",
   "id": "b9d1ed7f",
   "metadata": {},
   "source": [
    "# Автоматическое дифференцирование"
   ]
  },
  {
   "cell_type": "code",
   "execution_count": 1,
   "id": "71d16b7e",
   "metadata": {},
   "outputs": [],
   "source": [
    "import torch\n",
    "from torch import autograd"
   ]
  },
  {
   "cell_type": "code",
   "execution_count": null,
   "id": "4922a3bf",
   "metadata": {},
   "outputs": [
    {
     "data": {
      "text/plain": [
       "tensor([[0.3498, 0.0940, 0.9131],\n",
       "        [0.0260, 0.4871, 0.2078],\n",
       "        [0.7307, 0.9632, 0.6169],\n",
       "        [0.4258, 0.7482, 0.5651],\n",
       "        [0.7915, 0.6276, 0.4072]])"
      ]
     },
     "execution_count": 2,
     "metadata": {},
     "output_type": "execute_result"
    }
   ],
   "source": []
  },
  {
   "cell_type": "code",
   "execution_count": null,
   "id": "b0a4bc85",
   "metadata": {},
   "outputs": [],
   "source": []
  }
 ],
 "metadata": {
  "kernelspec": {
   "display_name": "netology_pytorch_project",
   "language": "python",
   "name": "netology_pytorch_project"
  },
  "language_info": {
   "codemirror_mode": {
    "name": "ipython",
    "version": 3
   },
   "file_extension": ".py",
   "mimetype": "text/x-python",
   "name": "python",
   "nbconvert_exporter": "python",
   "pygments_lexer": "ipython3",
   "version": "3.11.11"
  }
 },
 "nbformat": 4,
 "nbformat_minor": 5
}
